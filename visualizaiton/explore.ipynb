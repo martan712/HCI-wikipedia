{
 "cells": [
  {
   "cell_type": "code",
   "execution_count": 1,
   "id": "2bcbf177",
   "metadata": {},
   "outputs": [],
   "source": [
    "import pandas as pd"
   ]
  },
  {
   "cell_type": "code",
   "execution_count": 2,
   "id": "91edeace",
   "metadata": {},
   "outputs": [],
   "source": [
    "articles = pd.read_csv(\"articles.tsv\", sep=\"\\t\", header=0)"
   ]
  },
  {
   "cell_type": "code",
   "execution_count": 3,
   "id": "0de59143",
   "metadata": {},
   "outputs": [],
   "source": [
    "links = pd.read_csv(\"links.tsv\", sep=\"\\t\", header=0)"
   ]
  },
  {
   "cell_type": "code",
   "execution_count": 4,
   "id": "a33bc04d",
   "metadata": {},
   "outputs": [
    {
     "data": {
      "text/html": [
       "<div>\n",
       "<style scoped>\n",
       "    .dataframe tbody tr th:only-of-type {\n",
       "        vertical-align: middle;\n",
       "    }\n",
       "\n",
       "    .dataframe tbody tr th {\n",
       "        vertical-align: top;\n",
       "    }\n",
       "\n",
       "    .dataframe thead th {\n",
       "        text-align: right;\n",
       "    }\n",
       "</style>\n",
       "<table border=\"1\" class=\"dataframe\">\n",
       "  <thead>\n",
       "    <tr style=\"text-align: right;\">\n",
       "      <th></th>\n",
       "      <th>linkSource</th>\n",
       "      <th>linkTarget</th>\n",
       "    </tr>\n",
       "  </thead>\n",
       "  <tbody>\n",
       "    <tr>\n",
       "      <th>0</th>\n",
       "      <td>%C3%81ed%C3%A1n_mac_Gabr%C3%A1in</td>\n",
       "      <td>Bede</td>\n",
       "    </tr>\n",
       "    <tr>\n",
       "      <th>1</th>\n",
       "      <td>%C3%81ed%C3%A1n_mac_Gabr%C3%A1in</td>\n",
       "      <td>Columba</td>\n",
       "    </tr>\n",
       "    <tr>\n",
       "      <th>2</th>\n",
       "      <td>%C3%81ed%C3%A1n_mac_Gabr%C3%A1in</td>\n",
       "      <td>D%C3%A1l_Riata</td>\n",
       "    </tr>\n",
       "    <tr>\n",
       "      <th>3</th>\n",
       "      <td>%C3%81ed%C3%A1n_mac_Gabr%C3%A1in</td>\n",
       "      <td>Great_Britain</td>\n",
       "    </tr>\n",
       "    <tr>\n",
       "      <th>4</th>\n",
       "      <td>%C3%81ed%C3%A1n_mac_Gabr%C3%A1in</td>\n",
       "      <td>Ireland</td>\n",
       "    </tr>\n",
       "    <tr>\n",
       "      <th>...</th>\n",
       "      <td>...</td>\n",
       "      <td>...</td>\n",
       "    </tr>\n",
       "    <tr>\n",
       "      <th>119877</th>\n",
       "      <td>Zulu</td>\n",
       "      <td>South_Africa</td>\n",
       "    </tr>\n",
       "    <tr>\n",
       "      <th>119878</th>\n",
       "      <td>Zulu</td>\n",
       "      <td>Swaziland</td>\n",
       "    </tr>\n",
       "    <tr>\n",
       "      <th>119879</th>\n",
       "      <td>Zulu</td>\n",
       "      <td>United_Kingdom</td>\n",
       "    </tr>\n",
       "    <tr>\n",
       "      <th>119880</th>\n",
       "      <td>Zulu</td>\n",
       "      <td>Zambia</td>\n",
       "    </tr>\n",
       "    <tr>\n",
       "      <th>119881</th>\n",
       "      <td>Zulu</td>\n",
       "      <td>Zimbabwe</td>\n",
       "    </tr>\n",
       "  </tbody>\n",
       "</table>\n",
       "<p>119882 rows × 2 columns</p>\n",
       "</div>"
      ],
      "text/plain": [
       "                              linkSource      linkTarget\n",
       "0       %C3%81ed%C3%A1n_mac_Gabr%C3%A1in            Bede\n",
       "1       %C3%81ed%C3%A1n_mac_Gabr%C3%A1in         Columba\n",
       "2       %C3%81ed%C3%A1n_mac_Gabr%C3%A1in  D%C3%A1l_Riata\n",
       "3       %C3%81ed%C3%A1n_mac_Gabr%C3%A1in   Great_Britain\n",
       "4       %C3%81ed%C3%A1n_mac_Gabr%C3%A1in         Ireland\n",
       "...                                  ...             ...\n",
       "119877                              Zulu    South_Africa\n",
       "119878                              Zulu       Swaziland\n",
       "119879                              Zulu  United_Kingdom\n",
       "119880                              Zulu          Zambia\n",
       "119881                              Zulu        Zimbabwe\n",
       "\n",
       "[119882 rows x 2 columns]"
      ]
     },
     "execution_count": 4,
     "metadata": {},
     "output_type": "execute_result"
    }
   ],
   "source": [
    "links"
   ]
  },
  {
   "cell_type": "code",
   "execution_count": 5,
   "id": "fc7dd423",
   "metadata": {},
   "outputs": [
    {
     "name": "stdout",
     "output_type": "stream",
     "text": [
      "[('%C3%81ed%C3%A1n_mac_Gabr%C3%A1in', 'Bede'), ('%C3%81ed%C3%A1n_mac_Gabr%C3%A1in', 'Columba'), ('%C3%81ed%C3%A1n_mac_Gabr%C3%A1in', 'D%C3%A1l_Riata'), ('%C3%81ed%C3%A1n_mac_Gabr%C3%A1in', 'Great_Britain'), ('%C3%81ed%C3%A1n_mac_Gabr%C3%A1in', 'Ireland'), ('%C3%81ed%C3%A1n_mac_Gabr%C3%A1in', 'Isle_of_Man'), ('%C3%81ed%C3%A1n_mac_Gabr%C3%A1in', 'Monarchy'), ('%C3%81ed%C3%A1n_mac_Gabr%C3%A1in', 'Orkney'), ('%C3%81ed%C3%A1n_mac_Gabr%C3%A1in', 'Picts'), ('%C3%81ed%C3%A1n_mac_Gabr%C3%A1in', 'Scotland')]\n"
     ]
    }
   ],
   "source": [
    "import graphviz\n",
    "import networkx as nx\n",
    "from networkx.drawing.nx_pydot import write_dot\n",
    "\n",
    "# Build NetworkX graph\n",
    "dot = nx.DiGraph()\n",
    "\n",
    "edges = [(x[0], x[1]) for x in links.values]\n",
    "print(edges[:10])\n",
    "\n",
    "dot.add_edges_from(edges)\n",
    "\n",
    "# Step 1: Write DOT file\n",
    "write_dot(dot, 'large_graph.dot')\n",
    "\n",
    "# Step 2: Modify DOT file to set edge transparency\n",
    "with open('large_graph.dot', 'r') as f:\n",
    "    lines = f.readlines()\n",
    "\n",
    "with open('large_graph.dot', 'w') as f:\n",
    "    for line in lines:\n",
    "        f.write(line)\n",
    "        if line.strip() == 'digraph {':\n",
    "            # Inject edge styling right after graph declaration\n",
    "            f.write('edge [color=\"#00000022\"];\\n')\n"
   ]
  },
  {
   "cell_type": "code",
   "execution_count": 9,
   "id": "3b79cc5e",
   "metadata": {},
   "outputs": [
    {
     "data": {
      "text/plain": [
       "CompletedProcess(args=['sfdp', '-Tpng', '-Gsplines=true', '-Gsep=+150', 'large_graph.dot', '-o', 'large_graph.png'], returncode=0)"
      ]
     },
     "execution_count": 9,
     "metadata": {},
     "output_type": "execute_result"
    }
   ],
   "source": [
    "import subprocess\n",
    "subprocess.run([\n",
    "    'sfdp',\n",
    "    '-Tpng',\n",
    "    #'-Goverlap=scale',      # tries to reduce node overlaps by scaling positions\n",
    "    '-Gsplines=true',      # use curved edges for clarity\n",
    "    '-Gsep=+150',           # increase minimum node separation (default is 0)\n",
    "    'large_graph.dot',\n",
    "    '-o',\n",
    "    'large_graph.png'\n",
    "], check=True)"
   ]
  },
  {
   "cell_type": "code",
   "execution_count": null,
   "id": "343637cf",
   "metadata": {},
   "outputs": [
    {
     "data": {
      "text/plain": [
       "CompletedProcess(args=['neato', '-n', '-Tpng', 'layout.dot', '-o', 'refined_graph.png'], returncode=0)"
      ]
     },
     "execution_count": 14,
     "metadata": {},
     "output_type": "execute_result"
    }
   ],
   "source": [
    "import subprocess\n",
    "\n",
    "# Step 1: Fast layout with sfdp\n",
    "subprocess.run(['sfdp', '-Tdot', 'large_graph.dot', '-o', 'layout.dot'], check=True)\n",
    "\n",
    "# Step 2: Refine or rerender using neato without recomputing layout\n",
    "subprocess.run(['neato', '-n', '-Tpng', 'layout.dot', '-o', 'refined_graph.png'], check=True)\n"
   ]
  },
  {
   "cell_type": "code",
   "execution_count": 16,
   "id": "b4941e76",
   "metadata": {},
   "outputs": [
    {
     "data": {
      "text/plain": [
       "CompletedProcess(args=['neato', '-n', '-Tpng', 'layout.dot', '-o', 'refined_graph.png'], returncode=0)"
      ]
     },
     "execution_count": 16,
     "metadata": {},
     "output_type": "execute_result"
    }
   ],
   "source": [
    "import subprocess\n",
    "\n",
    "# Step 1: Fast layout with sfdp (include spacing)\n",
    "subprocess.run([\n",
    "    'sfdp',\n",
    "    '-Tdot',\n",
    "    '-Gsep=+150',        # 👈 Add spacing here\n",
    "    '-Gsplines=true',    # Optional: curved edges for readability\n",
    "    '-GK=1.5',\n",
    "    'large_graph.dot',\n",
    "    '-o', 'layout.dot'\n",
    "], check=True)\n",
    "\n",
    "# Step 2: Render using neato without recomputing layout\n",
    "subprocess.run([\n",
    "    'neato',\n",
    "    '-n',               # Do NOT recompute layout\n",
    "    '-Tpng',\n",
    "    'layout.dot',\n",
    "    '-o', 'refined_graph.png'\n",
    "], check=True)\n"
   ]
  },
  {
   "cell_type": "code",
   "execution_count": null,
   "id": "fa29f01f",
   "metadata": {},
   "outputs": [],
   "source": []
  }
 ],
 "metadata": {
  "kernelspec": {
   "display_name": "almanac",
   "language": "python",
   "name": "python3"
  },
  "language_info": {
   "codemirror_mode": {
    "name": "ipython",
    "version": 3
   },
   "file_extension": ".py",
   "mimetype": "text/x-python",
   "name": "python",
   "nbconvert_exporter": "python",
   "pygments_lexer": "ipython3",
   "version": "3.13.0"
  }
 },
 "nbformat": 4,
 "nbformat_minor": 5
}
