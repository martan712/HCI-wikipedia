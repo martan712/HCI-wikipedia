{
 "cells": [
  {
   "cell_type": "code",
   "execution_count": 1,
   "id": "39d7094f",
   "metadata": {},
   "outputs": [],
   "source": [
    "from DataLoader import DataLoader\n",
    "from Utility import *\n",
    "/\n",
    "dataloader = DataLoader(\"data\")\n",
    "dataloader.load_paths(\"paths_finished.tsv\") \n",
    "dataloader.load_edges(\"links.tsv\") "
   ]
  },
  {
   "cell_type": "code",
   "execution_count": 2,
   "id": "4e4ac551",
   "metadata": {},
   "outputs": [],
   "source": [
    "posterior_probs = compute_posteriors(dataloader.transitions, dataloader.edges)"
   ]
  },
  {
   "cell_type": "code",
   "execution_count": 3,
   "id": "b4ecce35",
   "metadata": {},
   "outputs": [],
   "source": [
    "posteriors = posterior_probs[[\"Current_A\",\"Next_A\",\"Goal_G\",\"P_star\"]].groupby([\"Current_A\",\"Next_A\",\"Goal_G\"]).sum()"
   ]
  },
  {
   "cell_type": "code",
   "execution_count": null,
   "id": "7d8de4ee",
   "metadata": {},
   "outputs": [
    {
     "name": "stderr",
     "output_type": "stream",
     "text": [
      "Processing Paths:  30%|██▉       | 15332/51317 [00:36<01:48, 330.37it/s]"
     ]
    }
   ],
   "source": [
    "path_specific_distances = compute_path_specific_distances(dataloader.paths, posteriors, dataloader.pagerank)"
   ]
  },
  {
   "cell_type": "code",
   "execution_count": 5,
   "id": "5de76b7d",
   "metadata": {},
   "outputs": [
    {
     "data": {
      "text/html": [
       "<div>\n",
       "<style scoped>\n",
       "    .dataframe tbody tr th:only-of-type {\n",
       "        vertical-align: middle;\n",
       "    }\n",
       "\n",
       "    .dataframe tbody tr th {\n",
       "        vertical-align: top;\n",
       "    }\n",
       "\n",
       "    .dataframe thead th {\n",
       "        text-align: right;\n",
       "    }\n",
       "</style>\n",
       "<table border=\"1\" class=\"dataframe\">\n",
       "  <thead>\n",
       "    <tr style=\"text-align: right;\">\n",
       "      <th></th>\n",
       "      <th>start</th>\n",
       "      <th>goal</th>\n",
       "      <th>distance</th>\n",
       "    </tr>\n",
       "  </thead>\n",
       "  <tbody>\n",
       "    <tr>\n",
       "      <th>242764</th>\n",
       "      <td>Australia</td>\n",
       "      <td>WorkChoices</td>\n",
       "      <td>-0.000000</td>\n",
       "    </tr>\n",
       "    <tr>\n",
       "      <th>242763</th>\n",
       "      <td>Cricket</td>\n",
       "      <td>WorkChoices</td>\n",
       "      <td>-0.000000</td>\n",
       "    </tr>\n",
       "    <tr>\n",
       "      <th>253479</th>\n",
       "      <td>Roman_Catholic_Church</td>\n",
       "      <td>Hello_Garci_scandal</td>\n",
       "      <td>-0.000000</td>\n",
       "    </tr>\n",
       "    <tr>\n",
       "      <th>140538</th>\n",
       "      <td>Sermon_on_the_Mount</td>\n",
       "      <td>Animal_law</td>\n",
       "      <td>-0.000000</td>\n",
       "    </tr>\n",
       "    <tr>\n",
       "      <th>140540</th>\n",
       "      <td>Human_rights</td>\n",
       "      <td>Animal_law</td>\n",
       "      <td>-0.000000</td>\n",
       "    </tr>\n",
       "    <tr>\n",
       "      <th>...</th>\n",
       "      <td>...</td>\n",
       "      <td>...</td>\n",
       "      <td>...</td>\n",
       "    </tr>\n",
       "    <tr>\n",
       "      <th>43936</th>\n",
       "      <td>Employment</td>\n",
       "      <td>English_language</td>\n",
       "      <td>199.931029</td>\n",
       "    </tr>\n",
       "    <tr>\n",
       "      <th>43935</th>\n",
       "      <td>Corporation</td>\n",
       "      <td>English_language</td>\n",
       "      <td>200.391839</td>\n",
       "    </tr>\n",
       "    <tr>\n",
       "      <th>43934</th>\n",
       "      <td>Government</td>\n",
       "      <td>English_language</td>\n",
       "      <td>200.852648</td>\n",
       "    </tr>\n",
       "    <tr>\n",
       "      <th>43933</th>\n",
       "      <td>Washington%2C_D.C.</td>\n",
       "      <td>English_language</td>\n",
       "      <td>201.313457</td>\n",
       "    </tr>\n",
       "    <tr>\n",
       "      <th>43932</th>\n",
       "      <td>United_States</td>\n",
       "      <td>English_language</td>\n",
       "      <td>201.996481</td>\n",
       "    </tr>\n",
       "  </tbody>\n",
       "</table>\n",
       "<p>295451 rows × 3 columns</p>\n",
       "</div>"
      ],
      "text/plain": [
       "                        start                 goal    distance\n",
       "242764              Australia          WorkChoices   -0.000000\n",
       "242763                Cricket          WorkChoices   -0.000000\n",
       "253479  Roman_Catholic_Church  Hello_Garci_scandal   -0.000000\n",
       "140538    Sermon_on_the_Mount           Animal_law   -0.000000\n",
       "140540           Human_rights           Animal_law   -0.000000\n",
       "...                       ...                  ...         ...\n",
       "43936              Employment     English_language  199.931029\n",
       "43935             Corporation     English_language  200.391839\n",
       "43934              Government     English_language  200.852648\n",
       "43933      Washington%2C_D.C.     English_language  201.313457\n",
       "43932           United_States     English_language  201.996481\n",
       "\n",
       "[295451 rows x 3 columns]"
      ]
     },
     "execution_count": 5,
     "metadata": {},
     "output_type": "execute_result"
    }
   ],
   "source": [
    "path_specific_distances.sort_values(by=\"distance\")"
   ]
  },
  {
   "cell_type": "code",
   "execution_count": 22,
   "id": "82a24e2f",
   "metadata": {},
   "outputs": [
    {
     "data": {
      "text/plain": [
       "np.float64(0.0022547196147744753)"
      ]
     },
     "execution_count": 22,
     "metadata": {},
     "output_type": "execute_result"
    }
   ],
   "source": [
    "dataloader.pagerank.loc[\"Asia\"]"
   ]
  },
  {
   "cell_type": "code",
   "execution_count": 19,
   "id": "88703df6",
   "metadata": {},
   "outputs": [
    {
     "data": {
      "text/html": [
       "<div>\n",
       "<style scoped>\n",
       "    .dataframe tbody tr th:only-of-type {\n",
       "        vertical-align: middle;\n",
       "    }\n",
       "\n",
       "    .dataframe tbody tr th {\n",
       "        vertical-align: top;\n",
       "    }\n",
       "\n",
       "    .dataframe thead th {\n",
       "        text-align: right;\n",
       "    }\n",
       "</style>\n",
       "<table border=\"1\" class=\"dataframe\">\n",
       "  <thead>\n",
       "    <tr style=\"text-align: right;\">\n",
       "      <th></th>\n",
       "      <th>start</th>\n",
       "      <th>goal</th>\n",
       "      <th>distance</th>\n",
       "    </tr>\n",
       "  </thead>\n",
       "  <tbody>\n",
       "    <tr>\n",
       "      <th>253481</th>\n",
       "      <td>Asia</td>\n",
       "      <td>Hello_Garci_scandal</td>\n",
       "      <td>-0.0</td>\n",
       "    </tr>\n",
       "    <tr>\n",
       "      <th>290076</th>\n",
       "      <td>Asia</td>\n",
       "      <td>Hello_Garci_scandal</td>\n",
       "      <td>-0.0</td>\n",
       "    </tr>\n",
       "  </tbody>\n",
       "</table>\n",
       "</div>"
      ],
      "text/plain": [
       "       start                 goal  distance\n",
       "253481  Asia  Hello_Garci_scandal      -0.0\n",
       "290076  Asia  Hello_Garci_scandal      -0.0"
      ]
     },
     "execution_count": 19,
     "metadata": {},
     "output_type": "execute_result"
    }
   ],
   "source": [
    "x = path_specific_distances[path_specific_distances[\"start\"] == \"Asia\"]\n",
    "y = x[x[\"goal\"]==\"Hello_Garci_scandal\"]\n",
    "y"
   ]
  },
  {
   "cell_type": "code",
   "execution_count": 7,
   "id": "2b85efb0",
   "metadata": {},
   "outputs": [],
   "source": [
    "semantic_distances = path_specific_distances.groupby([\"start\", \"goal\"]).mean().reset_index()"
   ]
  },
  {
   "cell_type": "code",
   "execution_count": 8,
   "id": "3c4566a8",
   "metadata": {},
   "outputs": [],
   "source": [
    "# Save as a clean CSV file\n",
    "semantic_distances.sort_values(by=\"distance\").to_csv(\"semantics_distances.csv\")"
   ]
  },
  {
   "cell_type": "code",
   "execution_count": 9,
   "id": "264ac538",
   "metadata": {},
   "outputs": [
    {
     "data": {
      "text/html": [
       "<div>\n",
       "<style scoped>\n",
       "    .dataframe tbody tr th:only-of-type {\n",
       "        vertical-align: middle;\n",
       "    }\n",
       "\n",
       "    .dataframe tbody tr th {\n",
       "        vertical-align: top;\n",
       "    }\n",
       "\n",
       "    .dataframe thead th {\n",
       "        text-align: right;\n",
       "    }\n",
       "</style>\n",
       "<table border=\"1\" class=\"dataframe\">\n",
       "  <thead>\n",
       "    <tr style=\"text-align: right;\">\n",
       "      <th></th>\n",
       "      <th>start</th>\n",
       "      <th>goal</th>\n",
       "      <th>distance</th>\n",
       "    </tr>\n",
       "  </thead>\n",
       "  <tbody>\n",
       "    <tr>\n",
       "      <th>77451</th>\n",
       "      <td>Linguistics</td>\n",
       "      <td>Noam_Chomsky</td>\n",
       "      <td>0.062079</td>\n",
       "    </tr>\n",
       "    <tr>\n",
       "      <th>99528</th>\n",
       "      <td>Philosophy</td>\n",
       "      <td>Noam_Chomsky</td>\n",
       "      <td>0.100622</td>\n",
       "    </tr>\n",
       "    <tr>\n",
       "      <th>31318</th>\n",
       "      <td>Communication</td>\n",
       "      <td>Noam_Chomsky</td>\n",
       "      <td>0.108860</td>\n",
       "    </tr>\n",
       "    <tr>\n",
       "      <th>115091</th>\n",
       "      <td>Socialism</td>\n",
       "      <td>Noam_Chomsky</td>\n",
       "      <td>0.150306</td>\n",
       "    </tr>\n",
       "    <tr>\n",
       "      <th>75242</th>\n",
       "      <td>Language</td>\n",
       "      <td>Noam_Chomsky</td>\n",
       "      <td>0.168750</td>\n",
       "    </tr>\n",
       "    <tr>\n",
       "      <th>...</th>\n",
       "      <td>...</td>\n",
       "      <td>...</td>\n",
       "      <td>...</td>\n",
       "    </tr>\n",
       "    <tr>\n",
       "      <th>19967</th>\n",
       "      <td>Brain</td>\n",
       "      <td>Noam_Chomsky</td>\n",
       "      <td>3.182883</td>\n",
       "    </tr>\n",
       "    <tr>\n",
       "      <th>7238</th>\n",
       "      <td>Anatomy</td>\n",
       "      <td>Noam_Chomsky</td>\n",
       "      <td>3.510602</td>\n",
       "    </tr>\n",
       "    <tr>\n",
       "      <th>18024</th>\n",
       "      <td>Biology</td>\n",
       "      <td>Noam_Chomsky</td>\n",
       "      <td>3.660908</td>\n",
       "    </tr>\n",
       "    <tr>\n",
       "      <th>100306</th>\n",
       "      <td>Physics</td>\n",
       "      <td>Noam_Chomsky</td>\n",
       "      <td>3.811214</td>\n",
       "    </tr>\n",
       "    <tr>\n",
       "      <th>65803</th>\n",
       "      <td>Hurricane_Vince_%282005%29</td>\n",
       "      <td>Noam_Chomsky</td>\n",
       "      <td>4.045730</td>\n",
       "    </tr>\n",
       "  </tbody>\n",
       "</table>\n",
       "<p>87 rows × 3 columns</p>\n",
       "</div>"
      ],
      "text/plain": [
       "                             start          goal  distance\n",
       "77451                  Linguistics  Noam_Chomsky  0.062079\n",
       "99528                   Philosophy  Noam_Chomsky  0.100622\n",
       "31318                Communication  Noam_Chomsky  0.108860\n",
       "115091                   Socialism  Noam_Chomsky  0.150306\n",
       "75242                     Language  Noam_Chomsky  0.168750\n",
       "...                            ...           ...       ...\n",
       "19967                        Brain  Noam_Chomsky  3.182883\n",
       "7238                       Anatomy  Noam_Chomsky  3.510602\n",
       "18024                      Biology  Noam_Chomsky  3.660908\n",
       "100306                     Physics  Noam_Chomsky  3.811214\n",
       "65803   Hurricane_Vince_%282005%29  Noam_Chomsky  4.045730\n",
       "\n",
       "[87 rows x 3 columns]"
      ]
     },
     "execution_count": 9,
     "metadata": {},
     "output_type": "execute_result"
    }
   ],
   "source": [
    "semantic_distances[semantic_distances[\"goal\"] == \"Noam_Chomsky\"].sort_values(by=\"distance\")"
   ]
  },
  {
   "cell_type": "code",
   "execution_count": 10,
   "id": "fedb09ac",
   "metadata": {},
   "outputs": [
    {
     "data": {
      "image/png": "[encoded data removed]",
      "text/plain": [
       "<Figure size 1000x600 with 1 Axes>"
      ]
     },
     "metadata": {},
     "output_type": "display_data"
    }
   ],
   "source": [
    "import matplotlib.pyplot as plt\n",
    "\n",
    "# Filter out potential NaNs\n",
    "p_star_data = posterior_probs['P_star'].dropna()\n",
    "\n",
    "plt.figure(figsize=(10, 6))\n",
    "plt.hist(p_star_data, bins=10, edgecolor='black', alpha=0.7)\n",
    "plt.title('Distribution of Posterior Click Probabilities ($P^*$)', fontsize=14)\n",
    "plt.xlabel('Posterior Click Probability ($P^*$)')\n",
    "plt.ylabel('Frequency (Number of Transitions)')\n",
    "plt.grid(axis='y', alpha=0.5)\n",
    "plt.tight_layout()\n",
    "plt.show()"
   ]
  },
  {
   "cell_type": "code",
   "execution_count": 11,
   "id": "a8e747f4",
   "metadata": {},
   "outputs": [
    {
     "data": {
      "image/png": "[encoded data removed]",
      "text/plain": [
       "<Figure size 1000x600 with 1 Axes>"
      ]
     },
     "metadata": {},
     "output_type": "display_data"
    }
   ],
   "source": [
    "import matplotlib.pyplot as plt\n",
    "\n",
    "# Filter out potential NaNs\n",
    "p_star_data = semantic_distances['distance'].dropna()\n",
    "\n",
    "plt.figure(figsize=(10, 6))\n",
    "plt.hist(p_star_data, bins=10, edgecolor='black', alpha=0.7)\n",
    "plt.title('Distribution of Posterior Click Probabilities ($P^*$)', fontsize=14)\n",
    "plt.xlabel('Posterior Click Probability ($P^*$)')\n",
    "plt.ylabel('Frequency (Number of Transitions)')\n",
    "plt.grid(axis='y', alpha=0.5)\n",
    "plt.tight_layout()\n",
    "plt.show()"
   ]
  },
  {
   "cell_type": "code",
   "execution_count": null,
   "id": "b98c8a73",
   "metadata": {},
   "outputs": [],
   "source": []
  }
 ],
 "metadata": {
  "kernelspec": {
   "display_name": "almanac",
   "language": "python",
   "name": "python3"
  },
  "language_info": {
   "codemirror_mode": {
    "name": "ipython",
    "version": 3
   },
   "file_extension": ".py",
   "mimetype": "text/x-python",
   "name": "python",
   "nbconvert_exporter": "python",
   "pygments_lexer": "ipython3",
   "version": "3.13.0"
  }
 },
 "nbformat": 4,
 "nbformat_minor": 5
}
