{
 "cells": [
  {
   "cell_type": "code",
   "execution_count": 1,
   "id": "39d7094f",
   "metadata": {},
   "outputs": [],
   "source": [
    "from DataLoader import DataLoader\n",
    "from Utility import *\n",
    "/\n",
    "dataloader = DataLoader(\"data\")\n",
    "dataloader.load_paths(\"paths_finished.tsv\") \n",
    "dataloader.load_edges(\"links.tsv\") "
   ]
  },
  {
   "cell_type": "code",
   "execution_count": 2,
   "id": "4e4ac551",
   "metadata": {},
   "outputs": [],
   "source": [
    "posterior_probs = compute_posteriors(dataloader.transitions, dataloader.edges)"
   ]
  },
  {
   "cell_type": "code",
   "execution_count": 3,
   "id": "b4ecce35",
   "metadata": {},
   "outputs": [],
   "source": [
    "posteriors = posterior_probs[[\"Current_A\",\"Next_A\",\"Goal_G\",\"P_star\"]].groupby([\"Current_A\",\"Next_A\",\"Goal_G\"]).sum()"
   ]
  },
  {
   "cell_type": "code",
   "execution_count": 4,
   "id": "0bc15212",
   "metadata": {},
   "outputs": [
    {
     "data": {
      "text/html": [
       "<div>\n",
       "<style scoped>\n",
       "    .dataframe tbody tr th:only-of-type {\n",
       "        vertical-align: middle;\n",
       "    }\n",
       "\n",
       "    .dataframe tbody tr th {\n",
       "        vertical-align: top;\n",
       "    }\n",
       "\n",
       "    .dataframe thead th {\n",
       "        text-align: right;\n",
       "    }\n",
       "</style>\n",
       "<table border=\"1\" class=\"dataframe\">\n",
       "  <thead>\n",
       "    <tr style=\"text-align: right;\">\n",
       "      <th></th>\n",
       "      <th></th>\n",
       "      <th></th>\n",
       "      <th>P_star</th>\n",
       "    </tr>\n",
       "    <tr>\n",
       "      <th>Current_A</th>\n",
       "      <th>Next_A</th>\n",
       "      <th>Goal_G</th>\n",
       "      <th></th>\n",
       "    </tr>\n",
       "  </thead>\n",
       "  <tbody>\n",
       "    <tr>\n",
       "      <th rowspan=\"5\" valign=\"top\">Wikipedia_Text_of_the_GNU_Free_Documentation_License</th>\n",
       "      <th>Romeo_and_Juliet</th>\n",
       "      <th>Google</th>\n",
       "      <td>0.0</td>\n",
       "    </tr>\n",
       "    <tr>\n",
       "      <th>The_Lorax</th>\n",
       "      <th>GNU</th>\n",
       "      <td>0.0</td>\n",
       "    </tr>\n",
       "    <tr>\n",
       "      <th>Consolation_of_Philosophy</th>\n",
       "      <th>EastEnders</th>\n",
       "      <td>0.0</td>\n",
       "    </tr>\n",
       "    <tr>\n",
       "      <th>Electron</th>\n",
       "      <th>Athens</th>\n",
       "      <td>0.0</td>\n",
       "    </tr>\n",
       "    <tr>\n",
       "      <th>Computer_programming</th>\n",
       "      <th>Open_source</th>\n",
       "      <td>0.0</td>\n",
       "    </tr>\n",
       "    <tr>\n",
       "      <th>...</th>\n",
       "      <th>...</th>\n",
       "      <th>...</th>\n",
       "      <td>...</td>\n",
       "    </tr>\n",
       "    <tr>\n",
       "      <th rowspan=\"5\" valign=\"top\">Hello_Garci_scandal</th>\n",
       "      <th rowspan=\"5\" valign=\"top\">Philippines</th>\n",
       "      <th>Edward_V_of_England</th>\n",
       "      <td>1.0</td>\n",
       "    </tr>\n",
       "    <tr>\n",
       "      <th>Computational_chemistry</th>\n",
       "      <td>1.0</td>\n",
       "    </tr>\n",
       "    <tr>\n",
       "      <th>Buenos_Aires</th>\n",
       "      <td>1.0</td>\n",
       "    </tr>\n",
       "    <tr>\n",
       "      <th>Badminton</th>\n",
       "      <td>1.0</td>\n",
       "    </tr>\n",
       "    <tr>\n",
       "      <th>Astronomy</th>\n",
       "      <td>1.0</td>\n",
       "    </tr>\n",
       "  </tbody>\n",
       "</table>\n",
       "<p>196937 rows × 1 columns</p>\n",
       "</div>"
      ],
      "text/plain": [
       "                                                                                                      P_star\n",
       "Current_A                                          Next_A                    Goal_G                         \n",
       "Wikipedia_Text_of_the_GNU_Free_Documentation_Li... Romeo_and_Juliet          Google                      0.0\n",
       "                                                   The_Lorax                 GNU                         0.0\n",
       "                                                   Consolation_of_Philosophy EastEnders                  0.0\n",
       "                                                   Electron                  Athens                      0.0\n",
       "                                                   Computer_programming      Open_source                 0.0\n",
       "...                                                                                                      ...\n",
       "Hello_Garci_scandal                                Philippines               Edward_V_of_England         1.0\n",
       "                                                                             Computational_chemistry     1.0\n",
       "                                                                             Buenos_Aires                1.0\n",
       "                                                                             Badminton                   1.0\n",
       "                                                                             Astronomy                   1.0\n",
       "\n",
       "[196937 rows x 1 columns]"
      ]
     },
     "execution_count": 4,
     "metadata": {},
     "output_type": "execute_result"
    }
   ],
   "source": [
    "posteriors.sort_values(by=\"P_star\")"
   ]
  },
  {
   "cell_type": "code",
   "execution_count": 5,
   "id": "7d8de4ee",
   "metadata": {},
   "outputs": [
    {
     "name": "stderr",
     "output_type": "stream",
     "text": [
      "Processing Paths: 100%|██████████| 51317/51317 [01:50<00:00, 463.00it/s]\n"
     ]
    }
   ],
   "source": [
    "path_specific_distances = compute_path_specific_distances(dataloader.paths, posteriors, dataloader.pagerank)"
   ]
  },
  {
   "cell_type": "code",
   "execution_count": 8,
   "id": "5de76b7d",
   "metadata": {},
   "outputs": [
    {
     "data": {
      "text/html": [
       "<div>\n",
       "<style scoped>\n",
       "    .dataframe tbody tr th:only-of-type {\n",
       "        vertical-align: middle;\n",
       "    }\n",
       "\n",
       "    .dataframe tbody tr th {\n",
       "        vertical-align: top;\n",
       "    }\n",
       "\n",
       "    .dataframe thead th {\n",
       "        text-align: right;\n",
       "    }\n",
       "</style>\n",
       "<table border=\"1\" class=\"dataframe\">\n",
       "  <thead>\n",
       "    <tr style=\"text-align: right;\">\n",
       "      <th></th>\n",
       "      <th>start</th>\n",
       "      <th>goal</th>\n",
       "      <th>distance</th>\n",
       "    </tr>\n",
       "  </thead>\n",
       "  <tbody>\n",
       "    <tr>\n",
       "      <th>12910</th>\n",
       "      <td>Bird</td>\n",
       "      <td>Wikipedia_Text_of_the_GNU_Free_Documentation_L...</td>\n",
       "      <td>-0.000000</td>\n",
       "    </tr>\n",
       "    <tr>\n",
       "      <th>218237</th>\n",
       "      <td>Microsoft_Windows</td>\n",
       "      <td>Windows_Vista</td>\n",
       "      <td>0.000847</td>\n",
       "    </tr>\n",
       "    <tr>\n",
       "      <th>54804</th>\n",
       "      <td>Microsoft_Windows</td>\n",
       "      <td>Windows_Vista</td>\n",
       "      <td>0.000847</td>\n",
       "    </tr>\n",
       "    <tr>\n",
       "      <th>218224</th>\n",
       "      <td>Microsoft_Windows</td>\n",
       "      <td>Windows_Vista</td>\n",
       "      <td>0.000847</td>\n",
       "    </tr>\n",
       "    <tr>\n",
       "      <th>265726</th>\n",
       "      <td>Microsoft_Windows</td>\n",
       "      <td>Windows_Vista</td>\n",
       "      <td>0.000847</td>\n",
       "    </tr>\n",
       "    <tr>\n",
       "      <th>...</th>\n",
       "      <td>...</td>\n",
       "      <td>...</td>\n",
       "      <td>...</td>\n",
       "    </tr>\n",
       "    <tr>\n",
       "      <th>43898</th>\n",
       "      <td>Employment</td>\n",
       "      <td>English_language</td>\n",
       "      <td>124.300461</td>\n",
       "    </tr>\n",
       "    <tr>\n",
       "      <th>43897</th>\n",
       "      <td>Corporation</td>\n",
       "      <td>English_language</td>\n",
       "      <td>124.488850</td>\n",
       "    </tr>\n",
       "    <tr>\n",
       "      <th>43896</th>\n",
       "      <td>Government</td>\n",
       "      <td>English_language</td>\n",
       "      <td>124.721624</td>\n",
       "    </tr>\n",
       "    <tr>\n",
       "      <th>43895</th>\n",
       "      <td>Washington%2C_D.C.</td>\n",
       "      <td>English_language</td>\n",
       "      <td>125.091820</td>\n",
       "    </tr>\n",
       "    <tr>\n",
       "      <th>43894</th>\n",
       "      <td>United_States</td>\n",
       "      <td>English_language</td>\n",
       "      <td>125.840825</td>\n",
       "    </tr>\n",
       "  </tbody>\n",
       "</table>\n",
       "<p>295237 rows × 3 columns</p>\n",
       "</div>"
      ],
      "text/plain": [
       "                     start                                               goal  \\\n",
       "12910                 Bird  Wikipedia_Text_of_the_GNU_Free_Documentation_L...   \n",
       "218237   Microsoft_Windows                                      Windows_Vista   \n",
       "54804    Microsoft_Windows                                      Windows_Vista   \n",
       "218224   Microsoft_Windows                                      Windows_Vista   \n",
       "265726   Microsoft_Windows                                      Windows_Vista   \n",
       "...                    ...                                                ...   \n",
       "43898           Employment                                   English_language   \n",
       "43897          Corporation                                   English_language   \n",
       "43896           Government                                   English_language   \n",
       "43895   Washington%2C_D.C.                                   English_language   \n",
       "43894        United_States                                   English_language   \n",
       "\n",
       "          distance  \n",
       "12910    -0.000000  \n",
       "218237    0.000847  \n",
       "54804     0.000847  \n",
       "218224    0.000847  \n",
       "265726    0.000847  \n",
       "...            ...  \n",
       "43898   124.300461  \n",
       "43897   124.488850  \n",
       "43896   124.721624  \n",
       "43895   125.091820  \n",
       "43894   125.840825  \n",
       "\n",
       "[295237 rows x 3 columns]"
      ]
     },
     "execution_count": 8,
     "metadata": {},
     "output_type": "execute_result"
    }
   ],
   "source": [
    "path_specific_distances.sort_values(by=\"distance\")"
   ]
  },
  {
   "cell_type": "code",
   "execution_count": 9,
   "id": "82a24e2f",
   "metadata": {},
   "outputs": [
    {
     "data": {
      "text/plain": [
       "np.float64(0.0022547196147744753)"
      ]
     },
     "execution_count": 9,
     "metadata": {},
     "output_type": "execute_result"
    }
   ],
   "source": [
    "dataloader.pagerank.loc[\"Asia\"]"
   ]
  },
  {
   "cell_type": "code",
   "execution_count": 10,
   "id": "88703df6",
   "metadata": {},
   "outputs": [
    {
     "data": {
      "text/html": [
       "<div>\n",
       "<style scoped>\n",
       "    .dataframe tbody tr th:only-of-type {\n",
       "        vertical-align: middle;\n",
       "    }\n",
       "\n",
       "    .dataframe tbody tr th {\n",
       "        vertical-align: top;\n",
       "    }\n",
       "\n",
       "    .dataframe thead th {\n",
       "        text-align: right;\n",
       "    }\n",
       "</style>\n",
       "<table border=\"1\" class=\"dataframe\">\n",
       "  <thead>\n",
       "    <tr style=\"text-align: right;\">\n",
       "      <th></th>\n",
       "      <th>start</th>\n",
       "      <th>goal</th>\n",
       "      <th>distance</th>\n",
       "    </tr>\n",
       "  </thead>\n",
       "  <tbody>\n",
       "    <tr>\n",
       "      <th>253303</th>\n",
       "      <td>Asia</td>\n",
       "      <td>Hello_Garci_scandal</td>\n",
       "      <td>0.282031</td>\n",
       "    </tr>\n",
       "    <tr>\n",
       "      <th>289880</th>\n",
       "      <td>Asia</td>\n",
       "      <td>Hello_Garci_scandal</td>\n",
       "      <td>0.282031</td>\n",
       "    </tr>\n",
       "  </tbody>\n",
       "</table>\n",
       "</div>"
      ],
      "text/plain": [
       "       start                 goal  distance\n",
       "253303  Asia  Hello_Garci_scandal  0.282031\n",
       "289880  Asia  Hello_Garci_scandal  0.282031"
      ]
     },
     "execution_count": 10,
     "metadata": {},
     "output_type": "execute_result"
    }
   ],
   "source": [
    "x = path_specific_distances[path_specific_distances[\"start\"] == \"Asia\"]\n",
    "y = x[x[\"goal\"]==\"Hello_Garci_scandal\"]\n",
    "y"
   ]
  },
  {
   "cell_type": "code",
   "execution_count": 11,
   "id": "2b85efb0",
   "metadata": {},
   "outputs": [],
   "source": [
    "semantic_distances = path_specific_distances.groupby([\"start\", \"goal\"]).mean().reset_index()"
   ]
  },
  {
   "cell_type": "code",
   "execution_count": 12,
   "id": "3c4566a8",
   "metadata": {},
   "outputs": [],
   "source": [
    "# Save as a clean CSV file\n",
    "semantic_distances.sort_values(by=\"distance\").to_csv(\"semantics_distances.csv\")"
   ]
  },
  {
   "cell_type": "code",
   "execution_count": 13,
   "id": "264ac538",
   "metadata": {},
   "outputs": [
    {
     "data": {
      "text/html": [
       "<div>\n",
       "<style scoped>\n",
       "    .dataframe tbody tr th:only-of-type {\n",
       "        vertical-align: middle;\n",
       "    }\n",
       "\n",
       "    .dataframe tbody tr th {\n",
       "        vertical-align: top;\n",
       "    }\n",
       "\n",
       "    .dataframe thead th {\n",
       "        text-align: right;\n",
       "    }\n",
       "</style>\n",
       "<table border=\"1\" class=\"dataframe\">\n",
       "  <thead>\n",
       "    <tr style=\"text-align: right;\">\n",
       "      <th></th>\n",
       "      <th>start</th>\n",
       "      <th>goal</th>\n",
       "      <th>distance</th>\n",
       "    </tr>\n",
       "  </thead>\n",
       "  <tbody>\n",
       "    <tr>\n",
       "      <th>77420</th>\n",
       "      <td>Linguistics</td>\n",
       "      <td>Noam_Chomsky</td>\n",
       "      <td>0.054946</td>\n",
       "    </tr>\n",
       "    <tr>\n",
       "      <th>31302</th>\n",
       "      <td>Communication</td>\n",
       "      <td>Noam_Chomsky</td>\n",
       "      <td>0.059755</td>\n",
       "    </tr>\n",
       "    <tr>\n",
       "      <th>75211</th>\n",
       "      <td>Language</td>\n",
       "      <td>Noam_Chomsky</td>\n",
       "      <td>0.156144</td>\n",
       "    </tr>\n",
       "    <tr>\n",
       "      <th>111103</th>\n",
       "      <td>Sanskrit</td>\n",
       "      <td>Noam_Chomsky</td>\n",
       "      <td>0.177273</td>\n",
       "    </tr>\n",
       "    <tr>\n",
       "      <th>115041</th>\n",
       "      <td>Socialism</td>\n",
       "      <td>Noam_Chomsky</td>\n",
       "      <td>0.182164</td>\n",
       "    </tr>\n",
       "    <tr>\n",
       "      <th>...</th>\n",
       "      <td>...</td>\n",
       "      <td>...</td>\n",
       "      <td>...</td>\n",
       "    </tr>\n",
       "    <tr>\n",
       "      <th>118136</th>\n",
       "      <td>Spain</td>\n",
       "      <td>Noam_Chomsky</td>\n",
       "      <td>3.482279</td>\n",
       "    </tr>\n",
       "    <tr>\n",
       "      <th>100263</th>\n",
       "      <td>Physics</td>\n",
       "      <td>Noam_Chomsky</td>\n",
       "      <td>3.641267</td>\n",
       "    </tr>\n",
       "    <tr>\n",
       "      <th>138480</th>\n",
       "      <td>Woodworking</td>\n",
       "      <td>Noam_Chomsky</td>\n",
       "      <td>3.662489</td>\n",
       "    </tr>\n",
       "    <tr>\n",
       "      <th>57177</th>\n",
       "      <td>Germany</td>\n",
       "      <td>Noam_Chomsky</td>\n",
       "      <td>4.355584</td>\n",
       "    </tr>\n",
       "    <tr>\n",
       "      <th>65776</th>\n",
       "      <td>Hurricane_Vince_%282005%29</td>\n",
       "      <td>Noam_Chomsky</td>\n",
       "      <td>4.532804</td>\n",
       "    </tr>\n",
       "  </tbody>\n",
       "</table>\n",
       "<p>87 rows × 3 columns</p>\n",
       "</div>"
      ],
      "text/plain": [
       "                             start          goal  distance\n",
       "77420                  Linguistics  Noam_Chomsky  0.054946\n",
       "31302                Communication  Noam_Chomsky  0.059755\n",
       "75211                     Language  Noam_Chomsky  0.156144\n",
       "111103                    Sanskrit  Noam_Chomsky  0.177273\n",
       "115041                   Socialism  Noam_Chomsky  0.182164\n",
       "...                            ...           ...       ...\n",
       "118136                       Spain  Noam_Chomsky  3.482279\n",
       "100263                     Physics  Noam_Chomsky  3.641267\n",
       "138480                 Woodworking  Noam_Chomsky  3.662489\n",
       "57177                      Germany  Noam_Chomsky  4.355584\n",
       "65776   Hurricane_Vince_%282005%29  Noam_Chomsky  4.532804\n",
       "\n",
       "[87 rows x 3 columns]"
      ]
     },
     "execution_count": 13,
     "metadata": {},
     "output_type": "execute_result"
    }
   ],
   "source": [
    "semantic_distances[semantic_distances[\"goal\"] == \"Noam_Chomsky\"].sort_values(by=\"distance\")"
   ]
  },
  {
   "cell_type": "code",
   "execution_count": 14,
   "id": "fedb09ac",
   "metadata": {},
   "outputs": [
    {
     "data": {
      "image/png": "[encoded data removed]",
      "text/plain": [
       "<Figure size 1000x600 with 1 Axes>"
      ]
     },
     "metadata": {},
     "output_type": "display_data"
    }
   ],
   "source": [
    "import matplotlib.pyplot as plt\n",
    "\n",
    "# Filter out potential NaNs\n",
    "p_star_data = posterior_probs['P_star'].dropna()\n",
    "\n",
    "plt.figure(figsize=(10, 6))\n",
    "plt.hist(p_star_data, bins=10, edgecolor='black', alpha=0.7)\n",
    "plt.title('Distribution of Posterior Click Probabilities ($P^*$)', fontsize=14)\n",
    "plt.xlabel('Posterior Click Probability ($P^*$)')\n",
    "plt.ylabel('Frequency (Number of Transitions)')\n",
    "plt.grid(axis='y', alpha=0.5)\n",
    "plt.tight_layout()\n",
    "plt.show()"
   ]
  },
  {
   "cell_type": "code",
   "execution_count": 21,
   "id": "a8e747f4",
   "metadata": {},
   "outputs": [
    {
     "data": {
      "image/png": "[encoded data removed]",
      "text/plain": [
       "<Figure size 1000x600 with 1 Axes>"
      ]
     },
     "metadata": {},
     "output_type": "display_data"
    }
   ],
   "source": [
    "import matplotlib.pyplot as plt\n",
    "\n",
    "# Filter out potential NaNs\n",
    "x = semantic_distances[semantic_distances['distance'] < 5]\n",
    "p_star_data = x['distance'].dropna()\n",
    "\n",
    "plt.figure(figsize=(10, 6))\n",
    "plt.hist(p_star_data, bins=100, edgecolor='black', alpha=0.7)\n",
    "plt.title('Distribution of Semantic Distances', fontsize=14)\n",
    "plt.xlabel('Semantic Distance')\n",
    "plt.ylabel('Frequency (Number of Transitions)')\n",
    "plt.grid(axis='y', alpha=0.5)\n",
    "plt.tight_layout()\n",
    "plt.show()"
   ]
  },
  {
   "cell_type": "code",
   "execution_count": null,
   "id": "b98c8a73",
   "metadata": {},
   "outputs": [],
   "source": []
  }
 ],
 "metadata": {
  "kernelspec": {
   "display_name": "almanac",
   "language": "python",
   "name": "python3"
  },
  "language_info": {
   "codemirror_mode": {
    "name": "ipython",
    "version": 3
   },
   "file_extension": ".py",
   "mimetype": "text/x-python",
   "name": "python",
   "nbconvert_exporter": "python",
   "pygments_lexer": "ipython3",
   "version": "3.13.0"
  }
 },
 "nbformat": 4,
 "nbformat_minor": 5
}
