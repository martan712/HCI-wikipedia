{
 "cells": [
  {
   "cell_type": "code",
   "execution_count": 1,
   "id": "39d7094f",
   "metadata": {},
   "outputs": [],
   "source": [
    "from DataLoader import DataLoader\n",
    "from Utility import *\n",
    "\n",
    "dataloader = DataLoader(\"data\")\n",
    "dataloader.load_paths(\"paths_finished.tsv\") \n",
    "dataloader.load_edges(\"links.tsv\") "
   ]
  },
  {
   "cell_type": "code",
   "execution_count": 2,
   "id": "4e4ac551",
   "metadata": {},
   "outputs": [],
   "source": [
    "posterior_probs = compute_posteriors(dataloader.transitions, dataloader.edges)"
   ]
  },
  {
   "cell_type": "code",
   "execution_count": 3,
   "id": "b4ecce35",
   "metadata": {},
   "outputs": [],
   "source": [
    "posteriors = posterior_probs[[\"Current_A\",\"Next_A\",\"Goal_G\",\"P_star\"]].groupby([\"Current_A\",\"Next_A\",\"Goal_G\"]).sum()"
   ]
  },
  {
   "cell_type": "code",
   "execution_count": 4,
   "id": "7d8de4ee",
   "metadata": {},
   "outputs": [
    {
     "name": "stderr",
     "output_type": "stream",
     "text": [
      "Processing Paths: 100%|██████████| 51317/51317 [01:46<00:00, 480.10it/s]\n"
     ]
    }
   ],
   "source": [
    "path_specific_distances = compute_path_specific_distances(dataloader.paths, posteriors, dataloader.pagerank)"
   ]
  },
  {
   "cell_type": "code",
   "execution_count": 5,
   "id": "5de76b7d",
   "metadata": {},
   "outputs": [
    {
     "data": {
      "text/html": [
       "<div>\n",
       "<style scoped>\n",
       "    .dataframe tbody tr th:only-of-type {\n",
       "        vertical-align: middle;\n",
       "    }\n",
       "\n",
       "    .dataframe tbody tr th {\n",
       "        vertical-align: top;\n",
       "    }\n",
       "\n",
       "    .dataframe thead th {\n",
       "        text-align: right;\n",
       "    }\n",
       "</style>\n",
       "<table border=\"1\" class=\"dataframe\">\n",
       "  <thead>\n",
       "    <tr style=\"text-align: right;\">\n",
       "      <th></th>\n",
       "      <th>start</th>\n",
       "      <th>goal</th>\n",
       "      <th>distance</th>\n",
       "    </tr>\n",
       "  </thead>\n",
       "  <tbody>\n",
       "    <tr>\n",
       "      <th>0</th>\n",
       "      <td>14th_century</td>\n",
       "      <td>African_slave_trade</td>\n",
       "      <td>0.236158</td>\n",
       "    </tr>\n",
       "    <tr>\n",
       "      <th>1</th>\n",
       "      <td>Europe</td>\n",
       "      <td>African_slave_trade</td>\n",
       "      <td>0.098828</td>\n",
       "    </tr>\n",
       "    <tr>\n",
       "      <th>2</th>\n",
       "      <td>Africa</td>\n",
       "      <td>African_slave_trade</td>\n",
       "      <td>0.043848</td>\n",
       "    </tr>\n",
       "    <tr>\n",
       "      <th>3</th>\n",
       "      <td>Atlantic_slave_trade</td>\n",
       "      <td>African_slave_trade</td>\n",
       "      <td>0.017480</td>\n",
       "    </tr>\n",
       "    <tr>\n",
       "      <th>4</th>\n",
       "      <td>14th_century</td>\n",
       "      <td>African_slave_trade</td>\n",
       "      <td>0.608755</td>\n",
       "    </tr>\n",
       "    <tr>\n",
       "      <th>...</th>\n",
       "      <td>...</td>\n",
       "      <td>...</td>\n",
       "      <td>...</td>\n",
       "    </tr>\n",
       "    <tr>\n",
       "      <th>295447</th>\n",
       "      <td>Yarralumla%2C_Australian_Capital_Territory</td>\n",
       "      <td>Abraham_Lincoln</td>\n",
       "      <td>0.372886</td>\n",
       "    </tr>\n",
       "    <tr>\n",
       "      <th>295448</th>\n",
       "      <td>Australia</td>\n",
       "      <td>Abraham_Lincoln</td>\n",
       "      <td>0.192206</td>\n",
       "    </tr>\n",
       "    <tr>\n",
       "      <th>295449</th>\n",
       "      <td>United_States</td>\n",
       "      <td>Abraham_Lincoln</td>\n",
       "      <td>0.097247</td>\n",
       "    </tr>\n",
       "    <tr>\n",
       "      <th>295450</th>\n",
       "      <td>Ziad_Jarrah</td>\n",
       "      <td>Jew</td>\n",
       "      <td>0.480723</td>\n",
       "    </tr>\n",
       "    <tr>\n",
       "      <th>295451</th>\n",
       "      <td>Germany</td>\n",
       "      <td>Jew</td>\n",
       "      <td>0.133308</td>\n",
       "    </tr>\n",
       "  </tbody>\n",
       "</table>\n",
       "<p>295452 rows × 3 columns</p>\n",
       "</div>"
      ],
      "text/plain": [
       "                                             start                 goal  \\\n",
       "0                                     14th_century  African_slave_trade   \n",
       "1                                           Europe  African_slave_trade   \n",
       "2                                           Africa  African_slave_trade   \n",
       "3                             Atlantic_slave_trade  African_slave_trade   \n",
       "4                                     14th_century  African_slave_trade   \n",
       "...                                            ...                  ...   \n",
       "295447  Yarralumla%2C_Australian_Capital_Territory      Abraham_Lincoln   \n",
       "295448                                   Australia      Abraham_Lincoln   \n",
       "295449                               United_States      Abraham_Lincoln   \n",
       "295450                                 Ziad_Jarrah                  Jew   \n",
       "295451                                     Germany                  Jew   \n",
       "\n",
       "        distance  \n",
       "0       0.236158  \n",
       "1       0.098828  \n",
       "2       0.043848  \n",
       "3       0.017480  \n",
       "4       0.608755  \n",
       "...          ...  \n",
       "295447  0.372886  \n",
       "295448  0.192206  \n",
       "295449  0.097247  \n",
       "295450  0.480723  \n",
       "295451  0.133308  \n",
       "\n",
       "[295452 rows x 3 columns]"
      ]
     },
     "execution_count": 5,
     "metadata": {},
     "output_type": "execute_result"
    }
   ],
   "source": [
    "path_specific_distances"
   ]
  },
  {
   "cell_type": "code",
   "execution_count": 15,
   "id": "2b85efb0",
   "metadata": {},
   "outputs": [
    {
     "data": {
      "text/plain": [
       "np.float64(0.2509281637183849)"
      ]
     },
     "execution_count": 15,
     "metadata": {},
     "output_type": "execute_result"
    }
   ],
   "source": [
    "a = path_specific_distances[path_specific_distances[\"start\"] == \"Karl_Marx\"]\n",
    "b = a[a[\"goal\"] == \"Noam_Chomsky\"]\n",
    "b[\"distance\"].mean()"
   ]
  },
  {
   "cell_type": "code",
   "execution_count": 6,
   "id": "fedb09ac",
   "metadata": {},
   "outputs": [
    {
     "data": {
      "image/png": "[encoded data removed]",
      "text/plain": [
       "<Figure size 1000x600 with 1 Axes>"
      ]
     },
     "metadata": {},
     "output_type": "display_data"
    }
   ],
   "source": [
    "import matplotlib.pyplot as plt\n",
    "\n",
    "# Filter out potential NaNs\n",
    "p_star_data = posterior_probs['P_star'].dropna()\n",
    "\n",
    "plt.figure(figsize=(10, 6))\n",
    "plt.hist(p_star_data, bins=10, edgecolor='black', alpha=0.7)\n",
    "plt.title('Distribution of Posterior Click Probabilities ($P^*$)', fontsize=14)\n",
    "plt.xlabel('Posterior Click Probability ($P^*$)')\n",
    "plt.ylabel('Frequency (Number of Transitions)')\n",
    "plt.grid(axis='y', alpha=0.5)\n",
    "plt.tight_layout()\n",
    "plt.show()"
   ]
  },
  {
   "cell_type": "code",
   "execution_count": null,
   "id": "a8e747f4",
   "metadata": {},
   "outputs": [],
   "source": []
  }
 ],
 "metadata": {
  "kernelspec": {
   "display_name": "almanac",
   "language": "python",
   "name": "python3"
  },
  "language_info": {
   "codemirror_mode": {
    "name": "ipython",
    "version": 3
   },
   "file_extension": ".py",
   "mimetype": "text/x-python",
   "name": "python",
   "nbconvert_exporter": "python",
   "pygments_lexer": "ipython3",
   "version": "3.13.0"
  }
 },
 "nbformat": 4,
 "nbformat_minor": 5
}
